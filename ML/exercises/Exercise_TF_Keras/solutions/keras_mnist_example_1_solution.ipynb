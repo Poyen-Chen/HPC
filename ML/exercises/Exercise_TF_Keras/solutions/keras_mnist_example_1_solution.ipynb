{
 "cells": [
  {
   "cell_type": "markdown",
   "metadata": {
    "colab_type": "text",
    "id": "USSV_OlCFKOD"
   },
   "source": [
    "# Training a neural network on MNIST with Keras\n",
    "\n",
    "**This example is based on the following Tensorflow tutorial**  \n",
    "Copyright 2020 The TensorFlow Datasets Authors, Licensed under the Apache License, Version 2.0  \n",
    "Modifications by Georg Zitzlsberger (<georg.zitzlsberger@vsb.cz>)  \n",
    "  \n",
    "The original example is available here:\n",
    "<table class=\"tfo-notebook-buttons\" align=\"left\">\n",
    "  <td>\n",
    "    <a target=\"_blank\" href=\"https://www.tensorflow.org/datasets/keras_example\"><img src=\"https://www.tensorflow.org/images/tf_logo_32px.png\" />View on TensorFlow.org</a>\n",
    "  </td>\n",
    "  <td>\n",
    "    <a target=\"_blank\" href=\"https://colab.research.google.com/github/tensorflow/datasets/blob/master/docs/keras_example.ipynb\"><img src=\"https://www.tensorflow.org/images/colab_logo_32px.png\" />Run in Google Colab</a>\n",
    "  </td>\n",
    "  <td>\n",
    "    <a target=\"_blank\" href=\"https://github.com/tensorflow/datasets/blob/master/docs/keras_example.ipynb\"><img src=\"https://www.tensorflow.org/images/GitHub-Mark-32px.png\" />View source on GitHub</a>\n",
    "  </td>\n",
    "</table>  "
   ]
  },
  {
   "cell_type": "markdown",
   "metadata": {},
   "source": [
    "## Step 0: Setup environment\n",
    "\n",
    "- Set the GPU(s) to use\n",
    "- Optional: Tuning knowbs for CPU only execution\n",
    "- Show available devices for computation\n",
    "- Use Tensorflow 2.0 semantic"
   ]
  },
  {
   "cell_type": "code",
   "execution_count": null,
   "metadata": {},
   "outputs": [],
   "source": [
    "import os\n",
    "import tensorflow as tf\n",
    "import tensorflow.compat.v2 as tf\n",
    "import tensorflow_datasets as tfds\n",
    "\n",
    "#NUM_PARALLEL_EXEC_UNITS=10\n",
    "#tf.config.threading.set_intra_op_parallelism_threads(NUM_PARALLEL_EXEC_UNITS)\n",
    "#tf.config.threading.set_inter_op_parallelism_threads(1)\n",
    "#tf.config.set_soft_device_placement(True)\n",
    "\n",
    "#os.environ[\"OMP_NUM_THREADS\"] = \"{}\".format(NUM_PARALLEL_EXEC_UNITS)\n",
    "#os.environ[\"KMP_BLOCKTIME\"] = \"30\"\n",
    "#os.environ[\"KMP_SETTINGS\"] = \"1\"\n",
    "#os.environ[\"KMP_AFFINITY\"]= \"granularity=fine,verbose,compact,1,0\"\n",
    "\n",
    "#physical_devices = tf.config.experimental_list_devices() # Only for TF 2.0\n",
    "physical_devices = tf.config.list_physical_devices() # For TF >= 2.1\n",
    "print(physical_devices)\n",
    "\n",
    "tfds.disable_progress_bar()\n",
    "tf.enable_v2_behavior()\n",
    "\n",
    "gpus = tf.config.experimental.list_physical_devices('GPU')\n",
    "print(\"Num GPUs available: \", len(gpus))\n",
    "local_gpu =  0 # Only using one right now\n",
    "if gpus:\n",
    "    try:\n",
    "        tf.config.set_visible_devices(gpus[local_gpu], 'GPU')\n",
    "        for gpu in gpus:\n",
    "            tf.config.experimental.set_memory_growth(gpu, True)\n",
    "    except RuntimeError as e:\n",
    "        print(e)"
   ]
  },
  {
   "cell_type": "markdown",
   "metadata": {
    "colab_type": "text",
    "id": "VjI6VgOBf0v0"
   },
   "source": [
    "## Step 1: Create your input pipeline\n",
    "\n",
    "Build efficient input pipeline using advices from:\n",
    "* [TFDS performance guide](https://www.tensorflow.org/datasets/performances)\n",
    "* [tf.data performance guide](https://www.tensorflow.org/guide/data_performance#optimize_performance)\n"
   ]
  },
  {
   "cell_type": "markdown",
   "metadata": {
    "colab_type": "text",
    "id": "c3aH3vP_XLI8"
   },
   "source": [
    "### Load MNIST\n",
    "\n",
    "Load with the following arguments:\n",
    "\n",
    "* `shuffle_files`: The MNIST data is only stored in a single file, but for larger datasets with multiple files on disk, it's good practice to shuffle them when training.\n",
    "* `as_supervised`: Returns tuple `(img, label)` instead of dict `{'image': img, 'label': label}`"
   ]
  },
  {
   "cell_type": "code",
   "execution_count": null,
   "metadata": {},
   "outputs": [],
   "source": [
    "# used to disable (lack of) https warning\n",
    "import urllib3\n",
    "urllib3.disable_warnings(urllib3.exceptions.InsecureRequestWarning)"
   ]
  },
  {
   "cell_type": "code",
   "execution_count": null,
   "metadata": {
    "colab": {},
    "colab_type": "code",
    "id": "ZUMhCXhFXdHQ"
   },
   "outputs": [],
   "source": [
    "(ds_train, ds_test), ds_info = tfds.load(\n",
    "    'mnist',\n",
    "    split=['train', 'test'],\n",
    "    shuffle_files=True,\n",
    "    as_supervised=True,\n",
    "    with_info=True,\n",
    ")\n",
    "\n",
    "ds_train.apply(tf.data.experimental.assert_cardinality(ds_info.splits['train'].num_examples))\n",
    "ds_test.apply(tf.data.experimental.assert_cardinality(ds_info.splits['test'].num_examples))"
   ]
  },
  {
   "cell_type": "markdown",
   "metadata": {
    "colab_type": "text",
    "id": "rgwCFAcWXQTx"
   },
   "source": [
    "### Build training pipeline\n",
    "\n",
    "Apply the following transormations:\n",
    "\n",
    "* `ds.map`: TFDS provide the images as tf.uint8, while the model expect tf.float32, so normalize images\n",
    "* `ds.cache` As the dataset fit in memory, cache before shuffling for better performance.<br/>\n",
    "__Note:__ Random transformations should be applied after caching\n",
    "* `ds.shuffle`: For true randomness, set the shuffle buffer to the full dataset size.<br/>\n",
    "__Note:__ For bigger datasets which do not fit in memory, a standard value is 1000 if your system allows it.\n",
    "* `ds.batch`: Batch after shuffling to get unique batches at each epoch.\n",
    "* `ds.prefetch`: Good practice to end the pipeline by prefetching [for performances](https://www.tensorflow.org/guide/data_performance#prefetching)."
   ]
  },
  {
   "cell_type": "code",
   "execution_count": null,
   "metadata": {
    "colab": {},
    "colab_type": "code",
    "id": "haykx2K9XgiI"
   },
   "outputs": [],
   "source": [
    "def normalize_img(image, label):\n",
    "  \"\"\"Normalizes images: `uint8` -> `float32`.\"\"\"\n",
    "  return tf.cast(image, tf.float32) / 255., label\n",
    "\n",
    "ds_train = ds_train.map(\n",
    "    normalize_img, num_parallel_calls=tf.data.experimental.AUTOTUNE)\n",
    "ds_train = ds_train.cache()\n",
    "ds_train = ds_train.shuffle(ds_info.splits['train'].num_examples)\n",
    "ds_train = ds_train.batch(128)\n",
    "ds_train = ds_train.prefetch(tf.data.experimental.AUTOTUNE)"
   ]
  },
  {
   "cell_type": "markdown",
   "metadata": {},
   "source": [
    "### Inspect the data set\n",
    "\n",
    "Display individual MNIST samples and their labels.\n",
    "\n",
    "**Note:** Rerun the cell to see different samples. This is due to shuffling of the data in the 'ds_train' dataset every time it is accessed (iterated)."
   ]
  },
  {
   "cell_type": "code",
   "execution_count": null,
   "metadata": {},
   "outputs": [],
   "source": [
    "import numpy as np\n",
    "import matplotlib.pyplot as plt\n",
    "from IPython.display import Markdown, display\n",
    "\n",
    "# Show one image in ds_train (Note that rerunning reshuffles!)\n",
    "batch = 40 # Can be any batch\n",
    "idx = 40   # Can be any index within each batch\n",
    "for x, y in ds_train:\n",
    "    if batch == 0:\n",
    "        img = x[idx][:, :,0]\n",
    "        img = np.stack((img,)*3, axis=-1)\n",
    "        fig, ax = plt.subplots(figsize=(5,5))\n",
    "        im = ax.imshow(img, cmap='gray', vmin=0, vmax=255)\n",
    "        display(Markdown(\"#### **Label:** {}\".format(y[idx])))\n",
    "        plt.show()\n",
    "        break\n",
    "    else:\n",
    "        batch -= 1"
   ]
  },
  {
   "cell_type": "markdown",
   "metadata": {
    "colab_type": "text",
    "id": "RbsMy4X1XVFv"
   },
   "source": [
    "### Build evaluation pipeline\n",
    "\n",
    "Testing pipeline is similar to the training pipeline, with small differences:\n",
    "\n",
    " * No `ds.shuffle()` call\n",
    " * Caching is done after batching (as batches can be the same between epoch)"
   ]
  },
  {
   "cell_type": "code",
   "execution_count": null,
   "metadata": {
    "colab": {},
    "colab_type": "code",
    "id": "A0KjuDf7XiqY"
   },
   "outputs": [],
   "source": [
    "ds_test = ds_test.map(\n",
    "    normalize_img, num_parallel_calls=tf.data.experimental.AUTOTUNE)\n",
    "ds_test = ds_test.batch(128)\n",
    "ds_test = ds_test.cache()\n",
    "ds_test = ds_test.prefetch(tf.data.experimental.AUTOTUNE)"
   ]
  },
  {
   "cell_type": "code",
   "execution_count": null,
   "metadata": {},
   "outputs": [],
   "source": []
  }
 ],
 "metadata": {
  "colab": {
   "collapsed_sections": [],
   "last_runtime": {
    "build_target": "//learning/deepmind/dm_python:dm_notebook3",
    "kind": "private"
   },
   "name": "tensorflow/datasets",
   "private_outputs": true,
   "provenance": []
  },
  "kernelspec": {
   "display_name": "Python 3",
   "language": "python",
   "name": "python3"
  },
  "language_info": {
   "codemirror_mode": {
    "name": "ipython",
    "version": 3
   },
   "file_extension": ".py",
   "mimetype": "text/x-python",
   "name": "python",
   "nbconvert_exporter": "python",
   "pygments_lexer": "ipython3",
   "version": "3.8.8"
  }
 },
 "nbformat": 4,
 "nbformat_minor": 4
}
